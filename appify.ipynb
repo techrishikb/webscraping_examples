{
 "cells": [
  {
   "cell_type": "code",
   "execution_count": null,
   "metadata": {},
   "outputs": [],
   "source": [
    "# link of the web crawler: https://console.apify.com/actors/allWTAqnk6LAtZ63v/console (free trial ends on Sunday/ $5 per month) \n",
    "# install ApifyClient library \n",
    "# pip install ApifyClient \n",
    "\n",
    "import os \n",
    "import json \n",
    "import pandas as pd \n",
    "from pandas import json_normalize \n",
    "from dotenv import load_dotenv\n",
    "from apify_client import ApifyClient \n",
    "\n",
    "load_dotenv()\n",
    "\n",
    "# Initialize the ApifyClient with your API token \n",
    "client = ApifyClient(os.getenv('apify_client')) \n",
    "\n",
    "# # Prepare the Actor input \n",
    "run_input = { \"country\": \"IN\", \n",
    "             \"maximum\": 1, #show all results for page 1 \n",
    "             \"process\": \"gp\", \"keyword\": \"Sony Alpha ZV-E1\", #\"asin\": \"B00P43PCI8\", \n",
    "             \"ratingmin\": 1, \"ratingmax\": 5, \n",
    "             \"sorting\": True, \n",
    "             \"discount\": False, #if true shows only discounted products \n",
    "             \"proxy\": { \"useApifyProxy\": True }, } # Run the Actor and wait for it to finish \n",
    "\n",
    "run = client.actor(\"allWTAqnk6LAtZ63v\").call(run_input=run_input) \n",
    "# Fetch and print Actor results from the run's dataset (if there are any) \n",
    "# for item in client.dataset(run[\"defaultDatasetId\"]).iterate_items(): \n",
    "#     print(item) \n",
    "\n",
    "dataset_items = client.dataset(run['defaultDatasetId']).list_items().items \n",
    "#print(dataset_items) \n",
    "result = json_normalize(dataset_items) \n",
    "result.to_csv(\"output_file.csv\")"
   ]
  },
  {
   "cell_type": "code",
   "execution_count": null,
   "metadata": {},
   "outputs": [],
   "source": []
  }
 ],
 "metadata": {
  "language_info": {
   "name": "python"
  }
 },
 "nbformat": 4,
 "nbformat_minor": 2
}
